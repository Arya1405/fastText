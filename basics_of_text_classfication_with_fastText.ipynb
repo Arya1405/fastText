{
 "cells": [
  {
   "cell_type": "code",
   "execution_count": 1,
   "metadata": {},
   "outputs": [],
   "source": [
    "import fasttext"
   ]
  },
  {
   "cell_type": "code",
   "execution_count": 2,
   "id": "c2be1de8",
   "metadata": {},
   "outputs": [],
   "source": [
    "model = fasttext.train_supervised(input=\"cooking.train\")"
   ]
  },
  {
   "cell_type": "code",
   "execution_count": 3,
   "id": "dc42e5c4",
   "metadata": {},
   "outputs": [],
   "source": [
    "model.save_model(\"model_cooking.bin\")"
   ]
  },
  {
   "cell_type": "code",
   "execution_count": 4,
   "id": "d477cf4b",
   "metadata": {},
   "outputs": [
    {
     "data": {
      "text/plain": [
       "(('__label__baking',), array([0.06580226]))"
      ]
     },
     "execution_count": 4,
     "metadata": {},
     "output_type": "execute_result"
    }
   ],
   "source": [
    "model.predict(\"Which baking dish is best to bake a banana bread ?\")"
   ]
  },
  {
   "cell_type": "code",
   "execution_count": 5,
   "id": "b3bd3874",
   "metadata": {},
   "outputs": [
    {
     "data": {
      "text/plain": [
       "(('__label__food-safety',), array([0.06431208]))"
      ]
     },
     "execution_count": 5,
     "metadata": {},
     "output_type": "execute_result"
    }
   ],
   "source": [
    "model.predict(\"Why not put knives in the dishwasher?\")"
   ]
  },
  {
   "cell_type": "code",
   "execution_count": 6,
   "id": "554e6b67",
   "metadata": {},
   "outputs": [
    {
     "data": {
      "text/plain": [
       "(3000, 0.14066666666666666, 0.061813388018163176)"
      ]
     },
     "execution_count": 6,
     "metadata": {},
     "output_type": "execute_result"
    }
   ],
   "source": [
    "model.test(\"cooking.valid\")"
   ]
  },
  {
   "attachments": {},
   "cell_type": "markdown",
   "id": "fc7e47f3",
   "metadata": {},
   "source": [
    "The output are the number of samples (here 3000), the precision at one (0.124) and the recall at one (0.0541)."
   ]
  },
  {
   "cell_type": "code",
   "execution_count": 7,
   "id": "f6ecb0f7",
   "metadata": {},
   "outputs": [
    {
     "data": {
      "text/plain": [
       "(3000, 0.0652, 0.14325472389043503)"
      ]
     },
     "execution_count": 7,
     "metadata": {},
     "output_type": "execute_result"
    }
   ],
   "source": [
    "model.test(\"cooking.valid\", k=5)"
   ]
  },
  {
   "attachments": {},
   "cell_type": "markdown",
   "id": "85393c5f",
   "metadata": {},
   "source": [
    "The k=5 parameter specifies the value of the k parameter, which is used to compute the precision at k. Precision at k measures how many of the top k predicted labels match the true labels. In other words, it evaluates how well the model's top k predictions align with the ground truth."
   ]
  },
  {
   "cell_type": "code",
   "execution_count": 8,
   "id": "9ebb3748",
   "metadata": {},
   "outputs": [
    {
     "data": {
      "text/plain": [
       "(('__label__food-safety',\n",
       "  '__label__baking',\n",
       "  '__label__bread',\n",
       "  '__label__substitutions',\n",
       "  '__label__equipment'),\n",
       " array([0.06431208, 0.06355464, 0.03789969, 0.03471975, 0.03359836]))"
      ]
     },
     "execution_count": 8,
     "metadata": {},
     "output_type": "execute_result"
    }
   ],
   "source": [
    "model.predict(\"Why not put knives in the dishwasher?\", k=5)"
   ]
  },
  {
   "attachments": {},
   "cell_type": "markdown",
   "id": "2490477f",
   "metadata": {},
   "source": [
    "On Stack Exchange, this sentence is labeled with three tags: equipment, cleaning and knives. \n",
    "\n",
    "Thus, one out of five labels predicted by the model is correct, giving a precision of 0.20. Out of the three real labels, only one is predicted by the model, giving a recall of 0.33."
   ]
  },
  {
   "attachments": {},
   "cell_type": "markdown",
   "id": "17a2eebc",
   "metadata": {},
   "source": [
    "Loading preprocessed text"
   ]
  },
  {
   "cell_type": "code",
   "execution_count": 9,
   "id": "2b1f34e2",
   "metadata": {},
   "outputs": [],
   "source": [
    "model = fasttext.train_supervised(input=\"cooking_preprocessed.train\")"
   ]
  },
  {
   "cell_type": "code",
   "execution_count": 10,
   "id": "888cb943",
   "metadata": {},
   "outputs": [
    {
     "data": {
      "text/plain": [
       "(3000, 0.16966666666666666, 0.07337465763298255)"
      ]
     },
     "execution_count": 10,
     "metadata": {},
     "output_type": "execute_result"
    }
   ],
   "source": [
    "model.test(\"cooking_preprocessed.valid\")"
   ]
  },
  {
   "attachments": {},
   "cell_type": "markdown",
   "id": "764e2a9c",
   "metadata": {},
   "source": [
    "Increasing the number of epochs"
   ]
  },
  {
   "cell_type": "code",
   "execution_count": 11,
   "id": "2ba0fccb",
   "metadata": {},
   "outputs": [],
   "source": [
    "model = fasttext.train_supervised(input=\"cooking_preprocessed.train\", epoch=25)"
   ]
  },
  {
   "cell_type": "code",
   "execution_count": 12,
   "id": "9f79b095",
   "metadata": {},
   "outputs": [
    {
     "data": {
      "text/plain": [
       "(3000, 0.5173333333333333, 0.22372783624044976)"
      ]
     },
     "execution_count": 12,
     "metadata": {},
     "output_type": "execute_result"
    }
   ],
   "source": [
    "model.test(\"cooking_preprocessed.valid\")"
   ]
  },
  {
   "attachments": {},
   "cell_type": "markdown",
   "id": "38318abf",
   "metadata": {},
   "source": [
    "Increasing the learning rate"
   ]
  },
  {
   "cell_type": "code",
   "execution_count": 13,
   "id": "8411b1a8",
   "metadata": {},
   "outputs": [],
   "source": [
    "model = fasttext.train_supervised(input=\"cooking_preprocessed.train\", lr=1.0)"
   ]
  },
  {
   "cell_type": "code",
   "execution_count": 14,
   "id": "7d94e4de",
   "metadata": {},
   "outputs": [
    {
     "data": {
      "text/plain": [
       "(3000, 0.5673333333333334, 0.2453510162894623)"
      ]
     },
     "execution_count": 14,
     "metadata": {},
     "output_type": "execute_result"
    }
   ],
   "source": [
    "model.test(\"cooking_preprocessed.valid\")"
   ]
  },
  {
   "attachments": {},
   "cell_type": "markdown",
   "id": "8e39c5c2",
   "metadata": {},
   "source": [
    "Tring epochs and lr together"
   ]
  },
  {
   "cell_type": "code",
   "execution_count": 15,
   "id": "d7684e4c",
   "metadata": {},
   "outputs": [
    {
     "data": {
      "text/plain": [
       "(3000, 0.5836666666666667, 0.2524145884388064)"
      ]
     },
     "execution_count": 15,
     "metadata": {},
     "output_type": "execute_result"
    }
   ],
   "source": [
    "model = fasttext.train_supervised(input=\"cooking_preprocessed.train\", lr=1.0, epoch=25)\n",
    "model.test(\"cooking_preprocessed.valid\")"
   ]
  },
  {
   "attachments": {},
   "cell_type": "markdown",
   "id": "cd1f4340",
   "metadata": {},
   "source": [
    "Word-N-Grams"
   ]
  },
  {
   "cell_type": "code",
   "execution_count": 16,
   "id": "dd69fcdd",
   "metadata": {},
   "outputs": [
    {
     "data": {
      "text/plain": [
       "(3000, 0.607, 0.26250540579501225)"
      ]
     },
     "execution_count": 16,
     "metadata": {},
     "output_type": "execute_result"
    }
   ],
   "source": [
    "model = fasttext.train_supervised(input=\"cooking_preprocessed.train\", lr=1.0, epoch=25, wordNgrams=2)\n",
    "model.test(\"cooking_preprocessed.valid\")"
   ]
  },
  {
   "attachments": {},
   "cell_type": "markdown",
   "id": "377fbff3",
   "metadata": {},
   "source": [
    "With a few steps, we were able to go from a precision at one of 12.4% to 60.7%. Important steps included:\n",
    "\n",
    "preprocessing the data ;\n",
    "changing the number of epochs (using the option -epoch, standard range [5 - 50]) ;\n",
    "changing the learning rate (using the option -lr, standard range [0.1 - 1.0]) ;\n",
    "using word n-grams (using the option -wordNgrams, standard range [1 - 5])"
   ]
  },
  {
   "attachments": {},
   "cell_type": "markdown",
   "id": "74c63a16",
   "metadata": {},
   "source": [
    "Since we are training our model on a few thousands of examples, the training only takes a few seconds. But training models on larger datasets, with more labels can start to be too slow. A potential solution to make the training faster is to use the hierarchical softmax, instead of the regular softmax. This can be done with the option -loss hs:"
   ]
  },
  {
   "cell_type": "code",
   "execution_count": 17,
   "id": "ff1b222c",
   "metadata": {},
   "outputs": [],
   "source": [
    "model = fasttext.train_supervised(input=\"cooking_preprocessed.train\", lr=1.0, epoch=25, wordNgrams=2, bucket=200000, dim=50, loss='hs')"
   ]
  },
  {
   "attachments": {},
   "cell_type": "markdown",
   "id": "2773cb21",
   "metadata": {},
   "source": [
    "The training took just 2.4 secs"
   ]
  },
  {
   "cell_type": "code",
   "execution_count": null,
   "id": "cd700500",
   "metadata": {},
   "outputs": [],
   "source": []
  }
 ],
 "metadata": {
  "kernelspec": {
   "display_name": "Python 3",
   "language": "python",
   "name": "python3"
  },
  "language_info": {
   "codemirror_mode": {
    "name": "ipython",
    "version": 3
   },
   "file_extension": ".py",
   "mimetype": "text/x-python",
   "name": "python",
   "nbconvert_exporter": "python",
   "pygments_lexer": "ipython3",
   "version": "3.8.0"
  }
 },
 "nbformat": 4,
 "nbformat_minor": 5
}
